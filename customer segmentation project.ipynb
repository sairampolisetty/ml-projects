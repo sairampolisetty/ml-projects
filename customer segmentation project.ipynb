{
  "cells": [
    {
      "cell_type": "markdown",
      "source": [
        "Importing dependencies"
      ],
      "metadata": {
        "id": "FXrNn_H0_aKX"
      }
    },
    {
      "cell_type": "code",
      "source": [
        "import pandas as pd\n",
        "import numpy as np\n",
        "import matplotlib.pyplot as plt\n",
        "import seaborn as sns\n",
        "from sklearn.cluster import KMeans\n"
      ],
      "metadata": {
        "id": "h7VWbevZi2Xw"
      },
      "execution_count": 1,
      "outputs": []
    },
    {
      "cell_type": "markdown",
      "source": [
        "collecting the dataset"
      ],
      "metadata": {
        "id": "H__Dv_u5_inf"
      }
    },
    {
      "cell_type": "code",
      "source": [
        "customer_data=pd.read_csv('/content/customer segmentation.zip')"
      ],
      "metadata": {
        "id": "eqn67PP4kAxU"
      },
      "execution_count": 4,
      "outputs": []
    },
    {
      "cell_type": "code",
      "source": [
        "#printing the five rows of the data\n",
        "customer_data.head()"
      ],
      "metadata": {
        "id": "tdqDqcOHkQ4Y",
        "outputId": "217f47f6-3f3a-470b-92ff-831fab879afe",
        "colab": {
          "base_uri": "https://localhost:8080/",
          "height": 206
        }
      },
      "execution_count": 3,
      "outputs": [
        {
          "output_type": "execute_result",
          "data": {
            "text/plain": [
              "   CustomerID  Gender  Age  Annual Income (k$)  Spending Score (1-100)\n",
              "0           1    Male   19                  15                      39\n",
              "1           2    Male   21                  15                      81\n",
              "2           3  Female   20                  16                       6\n",
              "3           4  Female   23                  16                      77\n",
              "4           5  Female   31                  17                      40"
            ],
            "text/html": [
              "\n",
              "  <div id=\"df-f1ba5a69-3e67-4a56-9972-90caeb92daea\">\n",
              "    <div class=\"colab-df-container\">\n",
              "      <div>\n",
              "<style scoped>\n",
              "    .dataframe tbody tr th:only-of-type {\n",
              "        vertical-align: middle;\n",
              "    }\n",
              "\n",
              "    .dataframe tbody tr th {\n",
              "        vertical-align: top;\n",
              "    }\n",
              "\n",
              "    .dataframe thead th {\n",
              "        text-align: right;\n",
              "    }\n",
              "</style>\n",
              "<table border=\"1\" class=\"dataframe\">\n",
              "  <thead>\n",
              "    <tr style=\"text-align: right;\">\n",
              "      <th></th>\n",
              "      <th>CustomerID</th>\n",
              "      <th>Gender</th>\n",
              "      <th>Age</th>\n",
              "      <th>Annual Income (k$)</th>\n",
              "      <th>Spending Score (1-100)</th>\n",
              "    </tr>\n",
              "  </thead>\n",
              "  <tbody>\n",
              "    <tr>\n",
              "      <th>0</th>\n",
              "      <td>1</td>\n",
              "      <td>Male</td>\n",
              "      <td>19</td>\n",
              "      <td>15</td>\n",
              "      <td>39</td>\n",
              "    </tr>\n",
              "    <tr>\n",
              "      <th>1</th>\n",
              "      <td>2</td>\n",
              "      <td>Male</td>\n",
              "      <td>21</td>\n",
              "      <td>15</td>\n",
              "      <td>81</td>\n",
              "    </tr>\n",
              "    <tr>\n",
              "      <th>2</th>\n",
              "      <td>3</td>\n",
              "      <td>Female</td>\n",
              "      <td>20</td>\n",
              "      <td>16</td>\n",
              "      <td>6</td>\n",
              "    </tr>\n",
              "    <tr>\n",
              "      <th>3</th>\n",
              "      <td>4</td>\n",
              "      <td>Female</td>\n",
              "      <td>23</td>\n",
              "      <td>16</td>\n",
              "      <td>77</td>\n",
              "    </tr>\n",
              "    <tr>\n",
              "      <th>4</th>\n",
              "      <td>5</td>\n",
              "      <td>Female</td>\n",
              "      <td>31</td>\n",
              "      <td>17</td>\n",
              "      <td>40</td>\n",
              "    </tr>\n",
              "  </tbody>\n",
              "</table>\n",
              "</div>\n",
              "      <button class=\"colab-df-convert\" onclick=\"convertToInteractive('df-f1ba5a69-3e67-4a56-9972-90caeb92daea')\"\n",
              "              title=\"Convert this dataframe to an interactive table.\"\n",
              "              style=\"display:none;\">\n",
              "        \n",
              "  <svg xmlns=\"http://www.w3.org/2000/svg\" height=\"24px\"viewBox=\"0 0 24 24\"\n",
              "       width=\"24px\">\n",
              "    <path d=\"M0 0h24v24H0V0z\" fill=\"none\"/>\n",
              "    <path d=\"M18.56 5.44l.94 2.06.94-2.06 2.06-.94-2.06-.94-.94-2.06-.94 2.06-2.06.94zm-11 1L8.5 8.5l.94-2.06 2.06-.94-2.06-.94L8.5 2.5l-.94 2.06-2.06.94zm10 10l.94 2.06.94-2.06 2.06-.94-2.06-.94-.94-2.06-.94 2.06-2.06.94z\"/><path d=\"M17.41 7.96l-1.37-1.37c-.4-.4-.92-.59-1.43-.59-.52 0-1.04.2-1.43.59L10.3 9.45l-7.72 7.72c-.78.78-.78 2.05 0 2.83L4 21.41c.39.39.9.59 1.41.59.51 0 1.02-.2 1.41-.59l7.78-7.78 2.81-2.81c.8-.78.8-2.07 0-2.86zM5.41 20L4 18.59l7.72-7.72 1.47 1.35L5.41 20z\"/>\n",
              "  </svg>\n",
              "      </button>\n",
              "      \n",
              "  <style>\n",
              "    .colab-df-container {\n",
              "      display:flex;\n",
              "      flex-wrap:wrap;\n",
              "      gap: 12px;\n",
              "    }\n",
              "\n",
              "    .colab-df-convert {\n",
              "      background-color: #E8F0FE;\n",
              "      border: none;\n",
              "      border-radius: 50%;\n",
              "      cursor: pointer;\n",
              "      display: none;\n",
              "      fill: #1967D2;\n",
              "      height: 32px;\n",
              "      padding: 0 0 0 0;\n",
              "      width: 32px;\n",
              "    }\n",
              "\n",
              "    .colab-df-convert:hover {\n",
              "      background-color: #E2EBFA;\n",
              "      box-shadow: 0px 1px 2px rgba(60, 64, 67, 0.3), 0px 1px 3px 1px rgba(60, 64, 67, 0.15);\n",
              "      fill: #174EA6;\n",
              "    }\n",
              "\n",
              "    [theme=dark] .colab-df-convert {\n",
              "      background-color: #3B4455;\n",
              "      fill: #D2E3FC;\n",
              "    }\n",
              "\n",
              "    [theme=dark] .colab-df-convert:hover {\n",
              "      background-color: #434B5C;\n",
              "      box-shadow: 0px 1px 3px 1px rgba(0, 0, 0, 0.15);\n",
              "      filter: drop-shadow(0px 1px 2px rgba(0, 0, 0, 0.3));\n",
              "      fill: #FFFFFF;\n",
              "    }\n",
              "  </style>\n",
              "\n",
              "      <script>\n",
              "        const buttonEl =\n",
              "          document.querySelector('#df-f1ba5a69-3e67-4a56-9972-90caeb92daea button.colab-df-convert');\n",
              "        buttonEl.style.display =\n",
              "          google.colab.kernel.accessAllowed ? 'block' : 'none';\n",
              "\n",
              "        async function convertToInteractive(key) {\n",
              "          const element = document.querySelector('#df-f1ba5a69-3e67-4a56-9972-90caeb92daea');\n",
              "          const dataTable =\n",
              "            await google.colab.kernel.invokeFunction('convertToInteractive',\n",
              "                                                     [key], {});\n",
              "          if (!dataTable) return;\n",
              "\n",
              "          const docLinkHtml = 'Like what you see? Visit the ' +\n",
              "            '<a target=\"_blank\" href=https://colab.research.google.com/notebooks/data_table.ipynb>data table notebook</a>'\n",
              "            + ' to learn more about interactive tables.';\n",
              "          element.innerHTML = '';\n",
              "          dataTable['output_type'] = 'display_data';\n",
              "          await google.colab.output.renderOutput(dataTable, element);\n",
              "          const docLink = document.createElement('div');\n",
              "          docLink.innerHTML = docLinkHtml;\n",
              "          element.appendChild(docLink);\n",
              "        }\n",
              "      </script>\n",
              "    </div>\n",
              "  </div>\n",
              "  "
            ]
          },
          "metadata": {},
          "execution_count": 3
        }
      ]
    },
    {
      "cell_type": "code",
      "source": [
        "customer_data.info()"
      ],
      "metadata": {
        "id": "wvVg4ytokXkc",
        "outputId": "e25b082e-7ff0-4451-fa26-dacf99c856b0",
        "colab": {
          "base_uri": "https://localhost:8080/"
        }
      },
      "execution_count": 5,
      "outputs": [
        {
          "output_type": "stream",
          "name": "stdout",
          "text": [
            "<class 'pandas.core.frame.DataFrame'>\n",
            "RangeIndex: 200 entries, 0 to 199\n",
            "Data columns (total 5 columns):\n",
            " #   Column                  Non-Null Count  Dtype \n",
            "---  ------                  --------------  ----- \n",
            " 0   CustomerID              200 non-null    int64 \n",
            " 1   Gender                  200 non-null    object\n",
            " 2   Age                     200 non-null    int64 \n",
            " 3   Annual Income (k$)      200 non-null    int64 \n",
            " 4   Spending Score (1-100)  200 non-null    int64 \n",
            "dtypes: int64(4), object(1)\n",
            "memory usage: 7.9+ KB\n"
          ]
        }
      ]
    },
    {
      "cell_type": "code",
      "source": [
        "#checking for null values\n",
        "customer_data.isnull().sum()"
      ],
      "metadata": {
        "id": "VYC3qoKW2_Tx",
        "outputId": "e923c094-6d0e-408a-b21e-6625aee72282",
        "colab": {
          "base_uri": "https://localhost:8080/"
        }
      },
      "execution_count": 7,
      "outputs": [
        {
          "output_type": "execute_result",
          "data": {
            "text/plain": [
              "CustomerID                0\n",
              "Gender                    0\n",
              "Age                       0\n",
              "Annual Income (k$)        0\n",
              "Spending Score (1-100)    0\n",
              "dtype: int64"
            ]
          },
          "metadata": {},
          "execution_count": 7
        }
      ]
    },
    {
      "cell_type": "code",
      "source": [
        "#checking how many rows and columns are there\n",
        "customer_data.shape"
      ],
      "metadata": {
        "id": "F5Pu4qa_3DRm",
        "outputId": "86fe98aa-51f3-4448-e4d3-2e286b845b84",
        "colab": {
          "base_uri": "https://localhost:8080/"
        }
      },
      "execution_count": 9,
      "outputs": [
        {
          "output_type": "execute_result",
          "data": {
            "text/plain": [
              "(200, 5)"
            ]
          },
          "metadata": {},
          "execution_count": 9
        }
      ]
    },
    {
      "cell_type": "code",
      "source": [
        "#chosing annual income coloumn and spending score \n",
        "x=customer_data.iloc[:,[3,4]].values"
      ],
      "metadata": {
        "id": "xxXxbDjt3T8G"
      },
      "execution_count": 10,
      "outputs": []
    },
    {
      "cell_type": "code",
      "source": [
        "print(x)"
      ],
      "metadata": {
        "id": "815cDMae3lk0",
        "outputId": "f6d5118a-e1b9-426e-b161-1d5913d95210",
        "colab": {
          "base_uri": "https://localhost:8080/"
        }
      },
      "execution_count": 13,
      "outputs": [
        {
          "output_type": "stream",
          "name": "stdout",
          "text": [
            "[[ 15  39]\n",
            " [ 15  81]\n",
            " [ 16   6]\n",
            " [ 16  77]\n",
            " [ 17  40]\n",
            " [ 17  76]\n",
            " [ 18   6]\n",
            " [ 18  94]\n",
            " [ 19   3]\n",
            " [ 19  72]\n",
            " [ 19  14]\n",
            " [ 19  99]\n",
            " [ 20  15]\n",
            " [ 20  77]\n",
            " [ 20  13]\n",
            " [ 20  79]\n",
            " [ 21  35]\n",
            " [ 21  66]\n",
            " [ 23  29]\n",
            " [ 23  98]\n",
            " [ 24  35]\n",
            " [ 24  73]\n",
            " [ 25   5]\n",
            " [ 25  73]\n",
            " [ 28  14]\n",
            " [ 28  82]\n",
            " [ 28  32]\n",
            " [ 28  61]\n",
            " [ 29  31]\n",
            " [ 29  87]\n",
            " [ 30   4]\n",
            " [ 30  73]\n",
            " [ 33   4]\n",
            " [ 33  92]\n",
            " [ 33  14]\n",
            " [ 33  81]\n",
            " [ 34  17]\n",
            " [ 34  73]\n",
            " [ 37  26]\n",
            " [ 37  75]\n",
            " [ 38  35]\n",
            " [ 38  92]\n",
            " [ 39  36]\n",
            " [ 39  61]\n",
            " [ 39  28]\n",
            " [ 39  65]\n",
            " [ 40  55]\n",
            " [ 40  47]\n",
            " [ 40  42]\n",
            " [ 40  42]\n",
            " [ 42  52]\n",
            " [ 42  60]\n",
            " [ 43  54]\n",
            " [ 43  60]\n",
            " [ 43  45]\n",
            " [ 43  41]\n",
            " [ 44  50]\n",
            " [ 44  46]\n",
            " [ 46  51]\n",
            " [ 46  46]\n",
            " [ 46  56]\n",
            " [ 46  55]\n",
            " [ 47  52]\n",
            " [ 47  59]\n",
            " [ 48  51]\n",
            " [ 48  59]\n",
            " [ 48  50]\n",
            " [ 48  48]\n",
            " [ 48  59]\n",
            " [ 48  47]\n",
            " [ 49  55]\n",
            " [ 49  42]\n",
            " [ 50  49]\n",
            " [ 50  56]\n",
            " [ 54  47]\n",
            " [ 54  54]\n",
            " [ 54  53]\n",
            " [ 54  48]\n",
            " [ 54  52]\n",
            " [ 54  42]\n",
            " [ 54  51]\n",
            " [ 54  55]\n",
            " [ 54  41]\n",
            " [ 54  44]\n",
            " [ 54  57]\n",
            " [ 54  46]\n",
            " [ 57  58]\n",
            " [ 57  55]\n",
            " [ 58  60]\n",
            " [ 58  46]\n",
            " [ 59  55]\n",
            " [ 59  41]\n",
            " [ 60  49]\n",
            " [ 60  40]\n",
            " [ 60  42]\n",
            " [ 60  52]\n",
            " [ 60  47]\n",
            " [ 60  50]\n",
            " [ 61  42]\n",
            " [ 61  49]\n",
            " [ 62  41]\n",
            " [ 62  48]\n",
            " [ 62  59]\n",
            " [ 62  55]\n",
            " [ 62  56]\n",
            " [ 62  42]\n",
            " [ 63  50]\n",
            " [ 63  46]\n",
            " [ 63  43]\n",
            " [ 63  48]\n",
            " [ 63  52]\n",
            " [ 63  54]\n",
            " [ 64  42]\n",
            " [ 64  46]\n",
            " [ 65  48]\n",
            " [ 65  50]\n",
            " [ 65  43]\n",
            " [ 65  59]\n",
            " [ 67  43]\n",
            " [ 67  57]\n",
            " [ 67  56]\n",
            " [ 67  40]\n",
            " [ 69  58]\n",
            " [ 69  91]\n",
            " [ 70  29]\n",
            " [ 70  77]\n",
            " [ 71  35]\n",
            " [ 71  95]\n",
            " [ 71  11]\n",
            " [ 71  75]\n",
            " [ 71   9]\n",
            " [ 71  75]\n",
            " [ 72  34]\n",
            " [ 72  71]\n",
            " [ 73   5]\n",
            " [ 73  88]\n",
            " [ 73   7]\n",
            " [ 73  73]\n",
            " [ 74  10]\n",
            " [ 74  72]\n",
            " [ 75   5]\n",
            " [ 75  93]\n",
            " [ 76  40]\n",
            " [ 76  87]\n",
            " [ 77  12]\n",
            " [ 77  97]\n",
            " [ 77  36]\n",
            " [ 77  74]\n",
            " [ 78  22]\n",
            " [ 78  90]\n",
            " [ 78  17]\n",
            " [ 78  88]\n",
            " [ 78  20]\n",
            " [ 78  76]\n",
            " [ 78  16]\n",
            " [ 78  89]\n",
            " [ 78   1]\n",
            " [ 78  78]\n",
            " [ 78   1]\n",
            " [ 78  73]\n",
            " [ 79  35]\n",
            " [ 79  83]\n",
            " [ 81   5]\n",
            " [ 81  93]\n",
            " [ 85  26]\n",
            " [ 85  75]\n",
            " [ 86  20]\n",
            " [ 86  95]\n",
            " [ 87  27]\n",
            " [ 87  63]\n",
            " [ 87  13]\n",
            " [ 87  75]\n",
            " [ 87  10]\n",
            " [ 87  92]\n",
            " [ 88  13]\n",
            " [ 88  86]\n",
            " [ 88  15]\n",
            " [ 88  69]\n",
            " [ 93  14]\n",
            " [ 93  90]\n",
            " [ 97  32]\n",
            " [ 97  86]\n",
            " [ 98  15]\n",
            " [ 98  88]\n",
            " [ 99  39]\n",
            " [ 99  97]\n",
            " [101  24]\n",
            " [101  68]\n",
            " [103  17]\n",
            " [103  85]\n",
            " [103  23]\n",
            " [103  69]\n",
            " [113   8]\n",
            " [113  91]\n",
            " [120  16]\n",
            " [120  79]\n",
            " [126  28]\n",
            " [126  74]\n",
            " [137  18]\n",
            " [137  83]]\n"
          ]
        }
      ]
    },
    {
      "cell_type": "markdown",
      "source": [
        "chosing the no.of clusters\n",
        "\n",
        "wcss=within cluster sum of square"
      ],
      "metadata": {
        "id": "vY9obXVTAkUe"
      }
    },
    {
      "cell_type": "code",
      "source": [
        "#finding wcss values for different number of clusters\n",
        "wcss=[]\n",
        "\n",
        "for i in range(1,11):\n",
        "  kmeans=KMeans(n_clusters=i,init='k-means++',random_state=42)\n",
        "  kmeans.fit(x)\n",
        "\n",
        "  wcss.append(kmeans.inertia_)"
      ],
      "metadata": {
        "id": "0aj4LJ4H3nPb"
      },
      "execution_count": 14,
      "outputs": []
    },
    {
      "cell_type": "code",
      "source": [
        "#plot an elbow graph\n",
        "sns.set()\n",
        "plt.plot(range(1,11),wcss)\n",
        "plt.title('the elbow graph')\n",
        "plt.xlabel('no.of clusters')\n",
        "plt.ylabel('wcss')\n",
        "plt.show()"
      ],
      "metadata": {
        "id": "aV1RKjIF5LvI",
        "outputId": "a3a9cca6-b2a7-460d-aafc-afe387c4c861",
        "colab": {
          "base_uri": "https://localhost:8080/",
          "height": 301
        }
      },
      "execution_count": 18,
      "outputs": [
        {
          "output_type": "display_data",
          "data": {
            "text/plain": [
              "<Figure size 432x288 with 1 Axes>"
            ],
            "image/png": "[encoded data removed]"
          },
          "metadata": {}
        }
      ]
    },
    {
      "cell_type": "markdown",
      "source": [
        "TRAINING THE KMEANS CLUSTERING MODEL\n"
      ],
      "metadata": {
        "id": "lmJ_wYZv6tVg"
      }
    },
    {
      "cell_type": "code",
      "source": [
        "kmeans=KMeans(n_clusters=5,init='k-means++',random_state=0)\n",
        "\n",
        "#return a lable for each data based on their clusters\n",
        "\n",
        "y=kmeans.fit_predict(x)\n",
        "print(y)"
      ],
      "metadata": {
        "id": "n0po_1sR55G8",
        "outputId": "4fed0d9e-ca5f-4d2d-9306-f2d1ec458ccb",
        "colab": {
          "base_uri": "https://localhost:8080/"
        }
      },
      "execution_count": 34,
      "outputs": [
        {
          "output_type": "stream",
          "name": "stdout",
          "text": [
            "[4 3 4 3 4 3 4 3 4 3 4 3 4 3 4 3 4 3 4 3 4 3 4 3 4 3 4 3 4 3 4 3 4 3 4 3 4\n",
            " 3 4 3 4 3 4 1 4 3 1 1 1 1 1 1 1 1 1 1 1 1 1 1 1 1 1 1 1 1 1 1 1 1 1 1 1 1\n",
            " 1 1 1 1 1 1 1 1 1 1 1 1 1 1 1 1 1 1 1 1 1 1 1 1 1 1 1 1 1 1 1 1 1 1 1 1 1\n",
            " 1 1 1 1 1 1 1 1 1 1 1 1 2 0 2 1 2 0 2 0 2 1 2 0 2 0 2 0 2 0 2 1 2 0 2 0 2\n",
            " 0 2 0 2 0 2 0 2 0 2 0 2 0 2 0 2 0 2 0 2 0 2 0 2 0 2 0 2 0 2 0 2 0 2 0 2 0\n",
            " 2 0 2 0 2 0 2 0 2 0 2 0 2 0 2]\n"
          ]
        }
      ]
    },
    {
      "cell_type": "code",
      "source": [
        "#plotting all the clusters and their centriods\n",
        "\n",
        "plt.figure(figsize=(6,6))\n",
        "\n",
        "\n",
        "plt.scatter(x[y==0,0],x[y==0,1],s=50,c='green',label='cluster 1')\n",
        "plt.scatter(x[y==1,0],x[y==1,1],s=50,c='orange',label='cluster 2')\n",
        "plt.scatter(x[y==2,0],x[y==2,1],s=50,c='blue',label='cluster 3')\n",
        "plt.scatter(x[y==3,0],x[y==3,1],s=50,c='black',label='cluster 4')\n",
        "plt.scatter(x[y==4,0],x[y==4,1],s=50,c='red',label='cluster 5')\n",
        "\n",
        "#plot the centroids \n",
        "\n",
        "plt.scatter(kmeans.cluster_centers_[:,0],kmeans.cluster_centers_[:,1],s=100,c='pink',label='centroids')\n",
        "\n",
        "plt.title('customer graphs')\n",
        "plt.xlabel('annual income')\n",
        "plt.ylabel('spending score')"
      ],
      "metadata": {
        "id": "yD9Mba6_7cu6",
        "outputId": "5f536c25-4930-43e0-ea9b-638e5d5487d6",
        "colab": {
          "base_uri": "https://localhost:8080/",
          "height": 427
        }
      },
      "execution_count": 35,
      "outputs": [
        {
          "output_type": "execute_result",
          "data": {
            "text/plain": [
              "Text(0, 0.5, 'spending score')"
            ]
          },
          "metadata": {},
          "execution_count": 35
        },
        {
          "output_type": "display_data",
          "data": {
            "text/plain": [
              "<Figure size 432x432 with 1 Axes>"
            ],
            "image/png": "[encoded data removed]"
          },
          "metadata": {}
        }
      ]
    },
    {
      "cell_type": "code",
      "source": [],
      "metadata": {
        "id": "eYzR6YEU8g6N"
      },
      "execution_count": null,
      "outputs": []
    }
  ],
  "metadata": {
    "colab": {
      "collapsed_sections": [],
      "name": "Welcome To Colaboratory",
      "provenance": []
    },
    "kernelspec": {
      "display_name": "Python 3",
      "name": "python3"
    }
  },
  "nbformat": 4,
  "nbformat_minor": 0
}